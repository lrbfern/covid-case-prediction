{
 "cells": [
  {
   "cell_type": "code",
   "execution_count": null,
   "metadata": {},
   "outputs": [],
   "source": [
    "import numpy as np\n",
    "import pandas as pd\n",
    "import matplotlib.pyplot as plt "
   ]
  },
  {
   "cell_type": "markdown",
   "metadata": {},
   "source": [
    "# Contact with infected and COVID-19 Infection"
   ]
  },
  {
   "cell_type": "markdown",
   "metadata": {},
   "source": [
    "These pie charts demonstrate that the proportion of those in contact with infected people was significantly higher for COVID-19 cases than non-cases, showing that contact with infectious people was a highly significant predictor of having COVID-19."
   ]
  },
  {
   "cell_type": "code",
   "execution_count": null,
   "metadata": {},
   "outputs": [],
   "source": [
    "df = pd.read_csv('FinalData.csv')\n",
    "df"
   ]
  },
  {
   "cell_type": "code",
   "execution_count": null,
   "metadata": {},
   "outputs": [],
   "source": [
    "df"
   ]
  },
  {
   "cell_type": "code",
   "execution_count": null,
   "metadata": {},
   "outputs": [],
   "source": [
    "df.columns = ['Delete', 'Cough', 'Fever', 'Sore Throat', 'Shortness of Breath', 'Headache', 'TestResult', 'Contact with Infectious']\n",
    "\n",
    "del df['Delete']"
   ]
  },
  {
   "cell_type": "code",
   "execution_count": null,
   "metadata": {},
   "outputs": [],
   "source": [
    "df.TestResult.value_counts() # 381 positive cases and 13,381 negative cases"
   ]
  },
  {
   "cell_type": "code",
   "execution_count": null,
   "metadata": {},
   "outputs": [],
   "source": [
    "df.columns = ['Cough', 'Fever', 'Sore Throat', 'Shortness of Breath', 'Headache', 'Test Result', 'Contact with Infectious']"
   ]
  },
  {
   "cell_type": "code",
   "execution_count": null,
   "metadata": {},
   "outputs": [],
   "source": [
    "positive_and_infectious = df.loc[(df['Test Result'] == 'Positive') & (df['Contact with Infectious'] == 'Yes')]\n",
    "positive_and_infectious # 153/381"
   ]
  },
  {
   "cell_type": "code",
   "execution_count": null,
   "metadata": {},
   "outputs": [],
   "source": [
    "negative_and_infectious = df.loc[(df['Test Result'] == 'Negative') & (df['Contact with Infectious'] == 'Yes')]\n",
    "negative_and_infectious # 138/13,381"
   ]
  },
  {
   "cell_type": "code",
   "execution_count": null,
   "metadata": {},
   "outputs": [],
   "source": [
    "data1 = [40.2, 59.8]\n",
    "data2 = [1.0, 99.0]\n",
    "labels = ['Contact with Infectious', 'No Contact']\n",
    "\n",
    "fig = plt.figure(figsize=(9,5), dpi=1000)\n",
    "\n",
    "chart_1 = plt.subplot2grid((1,2),(0,0))\n",
    "plt.pie(data1, labels=labels, autopct='%1.1f%%', startangle=90, colors =(\"g\",\"r\"))\n",
    "plt.title('COVID-19 Cases')\n",
    "\n",
    "chart_2 = plt.subplot2grid((1,2),(0,1))\n",
    "plt.pie(data2, labels=labels, autopct='%1.1f%%', startangle=90, colors = (\"g\",\"r\"))\n",
    "plt.title('Non-cases')"
   ]
  },
  {
   "cell_type": "markdown",
   "metadata": {},
   "source": [
    "There was clearly a far greater proportion of COVID-19 cases who were known to have been in contact with infectious people than non-cases. Therefore, it can be said that being in contact with infectious people is one of the most important predictors of a person having the virus. This is in line with Zoabi/Deri-Rozov/Shomron's findings."
   ]
  },
  {
   "cell_type": "markdown",
   "metadata": {},
   "source": [
    "# Symptoms and COVID-19 Infection"
   ]
  },
  {
   "cell_type": "code",
   "execution_count": null,
   "metadata": {},
   "outputs": [],
   "source": [
    "no_symptoms_and_positive = df.loc[(df['Cough'] == 'No') & (df['Fever'] == 'No') & (df['Sore Throat'] == 'No') & (df['Shortness of Breath'] == 'No') & (df['Headache'] == 'No') & (df['Test Result'] == 'Positive')]"
   ]
  },
  {
   "cell_type": "code",
   "execution_count": null,
   "metadata": {},
   "outputs": [],
   "source": [
    "no_symptoms_and_positive # 190/381"
   ]
  },
  {
   "cell_type": "code",
   "execution_count": null,
   "metadata": {},
   "outputs": [],
   "source": [
    "381-190 # 191 positive cases with at least one symptom"
   ]
  },
  {
   "cell_type": "code",
   "execution_count": null,
   "metadata": {},
   "outputs": [],
   "source": [
    "no_symptoms_and_negative = df.loc[(df['Cough'] == 'No') & (df['Fever'] == 'No') & (df['Sore Throat'] == 'No') & (df['Shortness of Breath'] == 'No') & (df['Headache'] == 'No') & (df['Test Result'] == 'Negative')]"
   ]
  },
  {
   "cell_type": "code",
   "execution_count": null,
   "metadata": {},
   "outputs": [],
   "source": [
    "no_symptoms_and_negative # 13,146/13,381"
   ]
  },
  {
   "cell_type": "code",
   "execution_count": null,
   "metadata": {},
   "outputs": [],
   "source": [
    "13381-13146 # 235 negative cases with at least one symptom"
   ]
  },
  {
   "cell_type": "code",
   "execution_count": null,
   "metadata": {},
   "outputs": [],
   "source": [
    "data1 = [50.1, 49.9]\n",
    "data2 = [1.8, 98.2]\n",
    "labels = ['Symptoms', 'No Symptoms']\n",
    "\n",
    "fig = plt.figure(figsize=(9,5), dpi=1000)\n",
    "\n",
    "chart_1 = plt.subplot2grid((1,2),(0,0))\n",
    "plt.pie(data1, labels=labels, autopct='%1.1f%%', startangle=90, colors =(\"g\",\"r\"))\n",
    "plt.title('COVID-19 Cases')\n",
    "\n",
    "chart_2 = plt.subplot2grid((1,2),(0,1))\n",
    "plt.pie(data2, labels=labels, autopct='%1.1f%%', startangle=90, colors = (\"g\",\"r\"))\n",
    "plt.title('Non-cases')"
   ]
  },
  {
   "cell_type": "markdown",
   "metadata": {},
   "source": [
    "Similarly, there was a far greater proportion of those with COVID-19 that experienced at least one symptom than those without the virus."
   ]
  },
  {
   "cell_type": "markdown",
   "metadata": {},
   "source": [
    "It is also worth demonstrating what the most common symptoms were for those with the virus."
   ]
  },
  {
   "cell_type": "code",
   "execution_count": null,
   "metadata": {},
   "outputs": [],
   "source": [
    "labels = ['Headache', 'Cough', 'Fever', 'Sore\\n Throat', 'Shortness\\n of Breath']\n",
    "\n",
    "percentages = [25.7, 24.1, 17.8, 9.2, 2.6]\n",
    "\n",
    "x = np.arange(len(labels))\n",
    "\n",
    "width = 0.7\n",
    "\n",
    "symptoms = plt.bar(labels, percentages, width)\n",
    "\n",
    "plt.xlabel('Symptom')\n",
    "plt.ylabel('Frequency (%)')\n",
    "plt.title(\"The percentage of people with the virus who suffered from each individual symptom\")\n",
    "plt.show()"
   ]
  },
  {
   "cell_type": "markdown",
   "metadata": {},
   "source": [
    "Headache, cough and fever were the most common symptoms. This is partially in line with the conclusions of the Israeli researchers, except headache is  more prevalent in the dataset than they say."
   ]
  }
 ],
 "metadata": {
  "kernelspec": {
   "display_name": "Python 3",
   "language": "python",
   "name": "python3"
  },
  "language_info": {
   "codemirror_mode": {
    "name": "ipython",
    "version": 3
   },
   "file_extension": ".py",
   "mimetype": "text/x-python",
   "name": "python",
   "nbconvert_exporter": "python",
   "pygments_lexer": "ipython3",
   "version": "3.7.4"
  }
 },
 "nbformat": 4,
 "nbformat_minor": 2
}
